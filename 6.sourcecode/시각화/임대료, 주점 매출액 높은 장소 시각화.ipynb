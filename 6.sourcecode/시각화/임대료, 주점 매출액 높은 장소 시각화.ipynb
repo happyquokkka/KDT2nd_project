{
 "cells": [
  {
   "cell_type": "code",
   "execution_count": 65,
   "id": "92ce13f6",
   "metadata": {},
   "outputs": [
    {
     "data": {
      "text/html": [
       "        <script type=\"text/javascript\">\n",
       "        window.PlotlyConfig = {MathJaxConfig: 'local'};\n",
       "        if (window.MathJax) {MathJax.Hub.Config({SVG: {font: \"STIX-Web\"}});}\n",
       "        if (typeof require !== 'undefined') {\n",
       "        require.undef(\"plotly\");\n",
       "        requirejs.config({\n",
       "            paths: {\n",
       "                'plotly': ['https://cdn.plot.ly/plotly-2.4.2.min']\n",
       "            }\n",
       "        });\n",
       "        require(['plotly'], function(Plotly) {\n",
       "            window._Plotly = Plotly;\n",
       "        });\n",
       "        }\n",
       "        </script>\n",
       "        "
      ]
     },
     "metadata": {},
     "output_type": "display_data"
    }
   ],
   "source": [
    "import chart_studio.plotly as py\n",
    "import matplotlib.pyplot as plt\n",
    "import pandas as pd\n",
    "import numpy as np\n",
    "import cufflinks as cf\n",
    "cf.go_offline(connected=True)\n",
    "from IPython.core.interactiveshell import InteractiveShell\n",
    "InteractiveShell.ast_node_interactivity=\"all\"\n",
    "import plotly.graph_objects as go\n",
    "from plotly.subplots import make_subplots\n",
    "import matplotlib \n",
    "import platform\n",
    "if platform.system() == 'Windows': matplotlib.rc('font', family='Malgun Gothic')"
   ]
  },
  {
   "cell_type": "code",
   "execution_count": 3,
   "id": "d2b84b0a",
   "metadata": {},
   "outputs": [],
   "source": [
    "rent=pd.read_csv(\"../전처리완csv/Seoul_rent.csv\", engine='python')"
   ]
  },
  {
   "cell_type": "code",
   "execution_count": 49,
   "id": "a4fd71ac",
   "metadata": {
    "scrolled": true
   },
   "outputs": [
    {
     "data": {
      "text/html": [
       "<div>\n",
       "<style scoped>\n",
       "    .dataframe tbody tr th:only-of-type {\n",
       "        vertical-align: middle;\n",
       "    }\n",
       "\n",
       "    .dataframe tbody tr th {\n",
       "        vertical-align: top;\n",
       "    }\n",
       "\n",
       "    .dataframe thead th {\n",
       "        text-align: right;\n",
       "    }\n",
       "</style>\n",
       "<table border=\"1\" class=\"dataframe\">\n",
       "  <thead>\n",
       "    <tr style=\"text-align: right;\">\n",
       "      <th></th>\n",
       "      <th>기간</th>\n",
       "      <th>광역상권</th>\n",
       "      <th>행정구역(구별)</th>\n",
       "      <th>임대료(천원/㎡)</th>\n",
       "      <th>공실률(%)</th>\n",
       "      <th>투자수익률(%)</th>\n",
       "      <th>소득수익률(%)</th>\n",
       "      <th>자본수익률(%)</th>\n",
       "      <th>시군구코드</th>\n",
       "      <th>ID</th>\n",
       "    </tr>\n",
       "  </thead>\n",
       "  <tbody>\n",
       "    <tr>\n",
       "      <th>0</th>\n",
       "      <td>2017</td>\n",
       "      <td>도심(시내)</td>\n",
       "      <td>종로구</td>\n",
       "      <td>69.2</td>\n",
       "      <td>1.1</td>\n",
       "      <td>7.02</td>\n",
       "      <td>5.01</td>\n",
       "      <td>1.94</td>\n",
       "      <td>11110</td>\n",
       "      <td>0</td>\n",
       "    </tr>\n",
       "    <tr>\n",
       "      <th>1</th>\n",
       "      <td>2017</td>\n",
       "      <td>도심(시내)</td>\n",
       "      <td>종로구</td>\n",
       "      <td>36.5</td>\n",
       "      <td>10.9</td>\n",
       "      <td>5.92</td>\n",
       "      <td>3.88</td>\n",
       "      <td>1.98</td>\n",
       "      <td>11110</td>\n",
       "      <td>1</td>\n",
       "    </tr>\n",
       "    <tr>\n",
       "      <th>2</th>\n",
       "      <td>2017</td>\n",
       "      <td>도심(시내)</td>\n",
       "      <td>중구</td>\n",
       "      <td>270.4</td>\n",
       "      <td>5.4</td>\n",
       "      <td>7.16</td>\n",
       "      <td>5.16</td>\n",
       "      <td>1.93</td>\n",
       "      <td>11140</td>\n",
       "      <td>2</td>\n",
       "    </tr>\n",
       "    <tr>\n",
       "      <th>3</th>\n",
       "      <td>2017</td>\n",
       "      <td>도심(시내)</td>\n",
       "      <td>중구</td>\n",
       "      <td>85.2</td>\n",
       "      <td>4.2</td>\n",
       "      <td>7.55</td>\n",
       "      <td>5.74</td>\n",
       "      <td>1.74</td>\n",
       "      <td>11140</td>\n",
       "      <td>3</td>\n",
       "    </tr>\n",
       "    <tr>\n",
       "      <th>4</th>\n",
       "      <td>2017</td>\n",
       "      <td>도심(시내)</td>\n",
       "      <td>종로구</td>\n",
       "      <td>84.2</td>\n",
       "      <td>2.7</td>\n",
       "      <td>7.49</td>\n",
       "      <td>4.87</td>\n",
       "      <td>2.53</td>\n",
       "      <td>11110</td>\n",
       "      <td>4</td>\n",
       "    </tr>\n",
       "  </tbody>\n",
       "</table>\n",
       "</div>"
      ],
      "text/plain": [
       "     기간    광역상권 행정구역(구별)  임대료(천원/㎡)  공실률(%)  투자수익률(%)  소득수익률(%)  자본수익률(%)  \\\n",
       "0  2017  도심(시내)      종로구       69.2     1.1      7.02      5.01      1.94   \n",
       "1  2017  도심(시내)      종로구       36.5    10.9      5.92      3.88      1.98   \n",
       "2  2017  도심(시내)       중구      270.4     5.4      7.16      5.16      1.93   \n",
       "3  2017  도심(시내)       중구       85.2     4.2      7.55      5.74      1.74   \n",
       "4  2017  도심(시내)      종로구       84.2     2.7      7.49      4.87      2.53   \n",
       "\n",
       "   시군구코드  ID  \n",
       "0  11110   0  \n",
       "1  11110   1  \n",
       "2  11140   2  \n",
       "3  11140   3  \n",
       "4  11110   4  "
      ]
     },
     "execution_count": 49,
     "metadata": {},
     "output_type": "execute_result"
    }
   ],
   "source": [
    "rent.head()"
   ]
  },
  {
   "cell_type": "code",
   "execution_count": 57,
   "id": "2bd8dfe8",
   "metadata": {},
   "outputs": [
    {
     "data": {
      "text/plain": [
       "['종로구',\n",
       " '중구',\n",
       " '강남구',\n",
       " '서초구',\n",
       " '마포구',\n",
       " '영등포구',\n",
       " '광진구',\n",
       " '동대문구',\n",
       " '양천구',\n",
       " '은평구',\n",
       " '동작구',\n",
       " '관악구',\n",
       " '성북구',\n",
       " '강북구',\n",
       " '구로구',\n",
       " '성동구',\n",
       " '용산구',\n",
       " '송파구',\n",
       " '강동구',\n",
       " '강서구']"
      ]
     },
     "execution_count": 57,
     "metadata": {},
     "output_type": "execute_result"
    }
   ],
   "source": [
    "gu_list = rent['행정구역(구별)'].drop_duplicates().to_list()\n",
    "gu_list"
   ]
  },
  {
   "cell_type": "code",
   "execution_count": 58,
   "id": "ab5ab9cc",
   "metadata": {},
   "outputs": [],
   "source": [
    "for name in gu_list:\n",
    "    globals()['{}'.format(name)] = rent[rent['행정구역(구별)'] == name]\n",
    "    globals()['mean_{}'.format(name)] = globals()['{}'.format(name)].mean()\n",
    "#     globals()['{}'.format(name)].loc['평균'] = globals()['mean_{}'.format(name)]\n",
    "    rent.loc['{}_평균'.format(name)] = globals()['mean_{}'.format(name)]\n",
    "    rent.loc['{}_평균'.format(name),'행정구역(구별)'] = name"
   ]
  },
  {
   "cell_type": "code",
   "execution_count": 59,
   "id": "45c80599",
   "metadata": {},
   "outputs": [],
   "source": [
    "mean = rent.loc['종로구_평균':'강서구_평균']"
   ]
  },
  {
   "cell_type": "code",
   "execution_count": 60,
   "id": "39cddf47",
   "metadata": {},
   "outputs": [],
   "source": [
    "mean.set_index('행정구역(구별)', inplace=True)"
   ]
  },
  {
   "cell_type": "code",
   "execution_count": 61,
   "id": "4519a793",
   "metadata": {},
   "outputs": [],
   "source": [
    "mean.reset_index(inplace=True)"
   ]
  },
  {
   "cell_type": "code",
   "execution_count": 62,
   "id": "fec3e511",
   "metadata": {},
   "outputs": [
    {
     "data": {
      "text/html": [
       "<div>\n",
       "<style scoped>\n",
       "    .dataframe tbody tr th:only-of-type {\n",
       "        vertical-align: middle;\n",
       "    }\n",
       "\n",
       "    .dataframe tbody tr th {\n",
       "        vertical-align: top;\n",
       "    }\n",
       "\n",
       "    .dataframe thead th {\n",
       "        text-align: right;\n",
       "    }\n",
       "</style>\n",
       "<table border=\"1\" class=\"dataframe\">\n",
       "  <thead>\n",
       "    <tr style=\"text-align: right;\">\n",
       "      <th></th>\n",
       "      <th>행정구역(구별)</th>\n",
       "      <th>기간</th>\n",
       "      <th>광역상권</th>\n",
       "      <th>임대료(천원/㎡)</th>\n",
       "      <th>공실률(%)</th>\n",
       "      <th>투자수익률(%)</th>\n",
       "      <th>소득수익률(%)</th>\n",
       "      <th>자본수익률(%)</th>\n",
       "      <th>시군구코드</th>\n",
       "      <th>ID</th>\n",
       "    </tr>\n",
       "  </thead>\n",
       "  <tbody>\n",
       "    <tr>\n",
       "      <th>0</th>\n",
       "      <td>종로구</td>\n",
       "      <td>2018.000000</td>\n",
       "      <td>NaN</td>\n",
       "      <td>66.125000</td>\n",
       "      <td>7.183333</td>\n",
       "      <td>7.104167</td>\n",
       "      <td>4.026667</td>\n",
       "      <td>2.988333</td>\n",
       "      <td>11110.0</td>\n",
       "      <td>48.583333</td>\n",
       "    </tr>\n",
       "    <tr>\n",
       "      <th>1</th>\n",
       "      <td>중구</td>\n",
       "      <td>2018.181818</td>\n",
       "      <td>NaN</td>\n",
       "      <td>120.581818</td>\n",
       "      <td>6.260000</td>\n",
       "      <td>7.380000</td>\n",
       "      <td>4.143636</td>\n",
       "      <td>3.141818</td>\n",
       "      <td>11140.0</td>\n",
       "      <td>48.636364</td>\n",
       "    </tr>\n",
       "    <tr>\n",
       "      <th>2</th>\n",
       "      <td>강남구</td>\n",
       "      <td>2018.000000</td>\n",
       "      <td>NaN</td>\n",
       "      <td>66.676190</td>\n",
       "      <td>8.719048</td>\n",
       "      <td>7.961429</td>\n",
       "      <td>3.287143</td>\n",
       "      <td>4.564286</td>\n",
       "      <td>11680.0</td>\n",
       "      <td>48.238095</td>\n",
       "    </tr>\n",
       "    <tr>\n",
       "      <th>3</th>\n",
       "      <td>서초구</td>\n",
       "      <td>2018.000000</td>\n",
       "      <td>NaN</td>\n",
       "      <td>27.633333</td>\n",
       "      <td>6.266667</td>\n",
       "      <td>7.626667</td>\n",
       "      <td>3.870000</td>\n",
       "      <td>3.656667</td>\n",
       "      <td>11650.0</td>\n",
       "      <td>47.666667</td>\n",
       "    </tr>\n",
       "    <tr>\n",
       "      <th>4</th>\n",
       "      <td>마포구</td>\n",
       "      <td>2018.000000</td>\n",
       "      <td>NaN</td>\n",
       "      <td>54.966667</td>\n",
       "      <td>6.766667</td>\n",
       "      <td>7.868889</td>\n",
       "      <td>4.016667</td>\n",
       "      <td>3.737778</td>\n",
       "      <td>11440.0</td>\n",
       "      <td>54.000000</td>\n",
       "    </tr>\n",
       "  </tbody>\n",
       "</table>\n",
       "</div>"
      ],
      "text/plain": [
       "  행정구역(구별)           기간 광역상권   임대료(천원/㎡)    공실률(%)  투자수익률(%)  소득수익률(%)  \\\n",
       "0      종로구  2018.000000  NaN   66.125000  7.183333  7.104167  4.026667   \n",
       "1       중구  2018.181818  NaN  120.581818  6.260000  7.380000  4.143636   \n",
       "2      강남구  2018.000000  NaN   66.676190  8.719048  7.961429  3.287143   \n",
       "3      서초구  2018.000000  NaN   27.633333  6.266667  7.626667  3.870000   \n",
       "4      마포구  2018.000000  NaN   54.966667  6.766667  7.868889  4.016667   \n",
       "\n",
       "   자본수익률(%)    시군구코드         ID  \n",
       "0  2.988333  11110.0  48.583333  \n",
       "1  3.141818  11140.0  48.636364  \n",
       "2  4.564286  11680.0  48.238095  \n",
       "3  3.656667  11650.0  47.666667  \n",
       "4  3.737778  11440.0  54.000000  "
      ]
     },
     "execution_count": 62,
     "metadata": {},
     "output_type": "execute_result"
    }
   ],
   "source": [
    "mean.head(5)"
   ]
  },
  {
   "cell_type": "code",
   "execution_count": 4,
   "id": "a08f0611",
   "metadata": {},
   "outputs": [],
   "source": [
    "sale=pd.read_csv(\"../전처리완csv/seoul_sales.csv\", engine='python')"
   ]
  },
  {
   "cell_type": "code",
   "execution_count": 5,
   "id": "5e24aaf9",
   "metadata": {
    "scrolled": false
   },
   "outputs": [
    {
     "data": {
      "text/html": [
       "<div>\n",
       "<style scoped>\n",
       "    .dataframe tbody tr th:only-of-type {\n",
       "        vertical-align: middle;\n",
       "    }\n",
       "\n",
       "    .dataframe tbody tr th {\n",
       "        vertical-align: top;\n",
       "    }\n",
       "\n",
       "    .dataframe thead th {\n",
       "        text-align: right;\n",
       "    }\n",
       "</style>\n",
       "<table border=\"1\" class=\"dataframe\">\n",
       "  <thead>\n",
       "    <tr style=\"text-align: right;\">\n",
       "      <th></th>\n",
       "      <th>기준년코드</th>\n",
       "      <th>상권코드</th>\n",
       "      <th>시군구코드</th>\n",
       "      <th>상권구분코드명</th>\n",
       "      <th>업태구분명</th>\n",
       "      <th>점포수</th>\n",
       "      <th>남성매출비율</th>\n",
       "      <th>여성매출비율</th>\n",
       "      <th>10대매출비율</th>\n",
       "      <th>20대매출비율</th>\n",
       "      <th>...</th>\n",
       "      <th>남성매출건수</th>\n",
       "      <th>여성매출건수</th>\n",
       "      <th>10대매출건수</th>\n",
       "      <th>20대매출건수</th>\n",
       "      <th>30대매출건수</th>\n",
       "      <th>40대매출건수</th>\n",
       "      <th>50대매출건수</th>\n",
       "      <th>60대이상매출건수</th>\n",
       "      <th>ID</th>\n",
       "      <th>행정구역(구별)</th>\n",
       "    </tr>\n",
       "  </thead>\n",
       "  <tbody>\n",
       "    <tr>\n",
       "      <th>0</th>\n",
       "      <td>2017</td>\n",
       "      <td>1000973</td>\n",
       "      <td>11740</td>\n",
       "      <td>골목상권</td>\n",
       "      <td>패스트푸드</td>\n",
       "      <td>1</td>\n",
       "      <td>43</td>\n",
       "      <td>57</td>\n",
       "      <td>1</td>\n",
       "      <td>21</td>\n",
       "      <td>...</td>\n",
       "      <td>1009</td>\n",
       "      <td>1324</td>\n",
       "      <td>23</td>\n",
       "      <td>487</td>\n",
       "      <td>733</td>\n",
       "      <td>609</td>\n",
       "      <td>310</td>\n",
       "      <td>171</td>\n",
       "      <td>0</td>\n",
       "      <td>강동구</td>\n",
       "    </tr>\n",
       "    <tr>\n",
       "      <th>1</th>\n",
       "      <td>2017</td>\n",
       "      <td>1000973</td>\n",
       "      <td>11740</td>\n",
       "      <td>골목상권</td>\n",
       "      <td>한식</td>\n",
       "      <td>18</td>\n",
       "      <td>59</td>\n",
       "      <td>41</td>\n",
       "      <td>1</td>\n",
       "      <td>17</td>\n",
       "      <td>...</td>\n",
       "      <td>4595</td>\n",
       "      <td>3481</td>\n",
       "      <td>94</td>\n",
       "      <td>1650</td>\n",
       "      <td>2209</td>\n",
       "      <td>1898</td>\n",
       "      <td>1431</td>\n",
       "      <td>800</td>\n",
       "      <td>1</td>\n",
       "      <td>강동구</td>\n",
       "    </tr>\n",
       "    <tr>\n",
       "      <th>2</th>\n",
       "      <td>2017</td>\n",
       "      <td>1000973</td>\n",
       "      <td>11740</td>\n",
       "      <td>골목상권</td>\n",
       "      <td>분식</td>\n",
       "      <td>2</td>\n",
       "      <td>42</td>\n",
       "      <td>58</td>\n",
       "      <td>4</td>\n",
       "      <td>15</td>\n",
       "      <td>...</td>\n",
       "      <td>2700</td>\n",
       "      <td>2900</td>\n",
       "      <td>98</td>\n",
       "      <td>606</td>\n",
       "      <td>1443</td>\n",
       "      <td>1082</td>\n",
       "      <td>1901</td>\n",
       "      <td>475</td>\n",
       "      <td>2</td>\n",
       "      <td>강동구</td>\n",
       "    </tr>\n",
       "    <tr>\n",
       "      <th>3</th>\n",
       "      <td>2017</td>\n",
       "      <td>1000973</td>\n",
       "      <td>11740</td>\n",
       "      <td>골목상권</td>\n",
       "      <td>치킨</td>\n",
       "      <td>4</td>\n",
       "      <td>57</td>\n",
       "      <td>44</td>\n",
       "      <td>1</td>\n",
       "      <td>22</td>\n",
       "      <td>...</td>\n",
       "      <td>1485</td>\n",
       "      <td>955</td>\n",
       "      <td>32</td>\n",
       "      <td>897</td>\n",
       "      <td>693</td>\n",
       "      <td>528</td>\n",
       "      <td>236</td>\n",
       "      <td>54</td>\n",
       "      <td>3</td>\n",
       "      <td>강동구</td>\n",
       "    </tr>\n",
       "    <tr>\n",
       "      <th>4</th>\n",
       "      <td>2017</td>\n",
       "      <td>1000973</td>\n",
       "      <td>11740</td>\n",
       "      <td>골목상권</td>\n",
       "      <td>카페</td>\n",
       "      <td>5</td>\n",
       "      <td>46</td>\n",
       "      <td>55</td>\n",
       "      <td>2</td>\n",
       "      <td>36</td>\n",
       "      <td>...</td>\n",
       "      <td>4469</td>\n",
       "      <td>6104</td>\n",
       "      <td>207</td>\n",
       "      <td>3674</td>\n",
       "      <td>3401</td>\n",
       "      <td>1832</td>\n",
       "      <td>1083</td>\n",
       "      <td>376</td>\n",
       "      <td>4</td>\n",
       "      <td>강동구</td>\n",
       "    </tr>\n",
       "  </tbody>\n",
       "</table>\n",
       "<p>5 rows × 38 columns</p>\n",
       "</div>"
      ],
      "text/plain": [
       "   기준년코드     상권코드  시군구코드 상권구분코드명  업태구분명  점포수  남성매출비율  여성매출비율  10대매출비율  \\\n",
       "0   2017  1000973  11740    골목상권  패스트푸드    1      43      57        1   \n",
       "1   2017  1000973  11740    골목상권     한식   18      59      41        1   \n",
       "2   2017  1000973  11740    골목상권     분식    2      42      58        4   \n",
       "3   2017  1000973  11740    골목상권     치킨    4      57      44        1   \n",
       "4   2017  1000973  11740    골목상권     카페    5      46      55        2   \n",
       "\n",
       "   20대매출비율  ...  남성매출건수  여성매출건수  10대매출건수  20대매출건수  30대매출건수  40대매출건수  50대매출건수  \\\n",
       "0       21  ...    1009    1324       23      487      733      609      310   \n",
       "1       17  ...    4595    3481       94     1650     2209     1898     1431   \n",
       "2       15  ...    2700    2900       98      606     1443     1082     1901   \n",
       "3       22  ...    1485     955       32      897      693      528      236   \n",
       "4       36  ...    4469    6104      207     3674     3401     1832     1083   \n",
       "\n",
       "   60대이상매출건수  ID  행정구역(구별)  \n",
       "0        171   0       강동구  \n",
       "1        800   1       강동구  \n",
       "2        475   2       강동구  \n",
       "3         54   3       강동구  \n",
       "4        376   4       강동구  \n",
       "\n",
       "[5 rows x 38 columns]"
      ]
     },
     "execution_count": 5,
     "metadata": {},
     "output_type": "execute_result"
    }
   ],
   "source": [
    "sale.head()"
   ]
  },
  {
   "cell_type": "code",
   "execution_count": 26,
   "id": "a9fd12bc",
   "metadata": {},
   "outputs": [],
   "source": [
    "sale['총매출액']=sale['남성매출금액']+sale['여성매출금액']"
   ]
  },
  {
   "cell_type": "code",
   "execution_count": 29,
   "id": "f5c0fe93",
   "metadata": {},
   "outputs": [
    {
     "data": {
      "text/html": [
       "<div>\n",
       "<style scoped>\n",
       "    .dataframe tbody tr th:only-of-type {\n",
       "        vertical-align: middle;\n",
       "    }\n",
       "\n",
       "    .dataframe tbody tr th {\n",
       "        vertical-align: top;\n",
       "    }\n",
       "\n",
       "    .dataframe thead th {\n",
       "        text-align: right;\n",
       "    }\n",
       "</style>\n",
       "<table border=\"1\" class=\"dataframe\">\n",
       "  <thead>\n",
       "    <tr style=\"text-align: right;\">\n",
       "      <th></th>\n",
       "      <th>level_0</th>\n",
       "      <th>index</th>\n",
       "      <th>기준년코드</th>\n",
       "      <th>상권코드</th>\n",
       "      <th>시군구코드</th>\n",
       "      <th>상권구분코드명</th>\n",
       "      <th>업태구분명</th>\n",
       "      <th>점포수</th>\n",
       "      <th>남성매출비율</th>\n",
       "      <th>여성매출비율</th>\n",
       "      <th>...</th>\n",
       "      <th>여성매출건수</th>\n",
       "      <th>10대매출건수</th>\n",
       "      <th>20대매출건수</th>\n",
       "      <th>30대매출건수</th>\n",
       "      <th>40대매출건수</th>\n",
       "      <th>50대매출건수</th>\n",
       "      <th>60대이상매출건수</th>\n",
       "      <th>ID</th>\n",
       "      <th>행정구역(구별)</th>\n",
       "      <th>총매출액</th>\n",
       "    </tr>\n",
       "  </thead>\n",
       "  <tbody>\n",
       "    <tr>\n",
       "      <th>0</th>\n",
       "      <td>0</td>\n",
       "      <td>0</td>\n",
       "      <td>2017</td>\n",
       "      <td>1000973</td>\n",
       "      <td>11740</td>\n",
       "      <td>골목상권</td>\n",
       "      <td>패스트푸드</td>\n",
       "      <td>1</td>\n",
       "      <td>43</td>\n",
       "      <td>57</td>\n",
       "      <td>...</td>\n",
       "      <td>1324</td>\n",
       "      <td>23</td>\n",
       "      <td>487</td>\n",
       "      <td>733</td>\n",
       "      <td>609</td>\n",
       "      <td>310</td>\n",
       "      <td>171</td>\n",
       "      <td>0</td>\n",
       "      <td>강동구</td>\n",
       "      <td>63291825</td>\n",
       "    </tr>\n",
       "    <tr>\n",
       "      <th>1</th>\n",
       "      <td>1</td>\n",
       "      <td>1</td>\n",
       "      <td>2017</td>\n",
       "      <td>1000973</td>\n",
       "      <td>11740</td>\n",
       "      <td>골목상권</td>\n",
       "      <td>한식</td>\n",
       "      <td>18</td>\n",
       "      <td>59</td>\n",
       "      <td>41</td>\n",
       "      <td>...</td>\n",
       "      <td>3481</td>\n",
       "      <td>94</td>\n",
       "      <td>1650</td>\n",
       "      <td>2209</td>\n",
       "      <td>1898</td>\n",
       "      <td>1431</td>\n",
       "      <td>800</td>\n",
       "      <td>1</td>\n",
       "      <td>강동구</td>\n",
       "      <td>182823540</td>\n",
       "    </tr>\n",
       "    <tr>\n",
       "      <th>2</th>\n",
       "      <td>2</td>\n",
       "      <td>2</td>\n",
       "      <td>2017</td>\n",
       "      <td>1000973</td>\n",
       "      <td>11740</td>\n",
       "      <td>골목상권</td>\n",
       "      <td>분식</td>\n",
       "      <td>2</td>\n",
       "      <td>42</td>\n",
       "      <td>58</td>\n",
       "      <td>...</td>\n",
       "      <td>2900</td>\n",
       "      <td>98</td>\n",
       "      <td>606</td>\n",
       "      <td>1443</td>\n",
       "      <td>1082</td>\n",
       "      <td>1901</td>\n",
       "      <td>475</td>\n",
       "      <td>2</td>\n",
       "      <td>강동구</td>\n",
       "      <td>55157106</td>\n",
       "    </tr>\n",
       "    <tr>\n",
       "      <th>3</th>\n",
       "      <td>3</td>\n",
       "      <td>3</td>\n",
       "      <td>2017</td>\n",
       "      <td>1000973</td>\n",
       "      <td>11740</td>\n",
       "      <td>골목상권</td>\n",
       "      <td>치킨</td>\n",
       "      <td>4</td>\n",
       "      <td>57</td>\n",
       "      <td>44</td>\n",
       "      <td>...</td>\n",
       "      <td>955</td>\n",
       "      <td>32</td>\n",
       "      <td>897</td>\n",
       "      <td>693</td>\n",
       "      <td>528</td>\n",
       "      <td>236</td>\n",
       "      <td>54</td>\n",
       "      <td>3</td>\n",
       "      <td>강동구</td>\n",
       "      <td>53978728</td>\n",
       "    </tr>\n",
       "    <tr>\n",
       "      <th>4</th>\n",
       "      <td>4</td>\n",
       "      <td>4</td>\n",
       "      <td>2017</td>\n",
       "      <td>1000973</td>\n",
       "      <td>11740</td>\n",
       "      <td>골목상권</td>\n",
       "      <td>카페</td>\n",
       "      <td>5</td>\n",
       "      <td>46</td>\n",
       "      <td>55</td>\n",
       "      <td>...</td>\n",
       "      <td>6104</td>\n",
       "      <td>207</td>\n",
       "      <td>3674</td>\n",
       "      <td>3401</td>\n",
       "      <td>1832</td>\n",
       "      <td>1083</td>\n",
       "      <td>376</td>\n",
       "      <td>4</td>\n",
       "      <td>강동구</td>\n",
       "      <td>62908091</td>\n",
       "    </tr>\n",
       "    <tr>\n",
       "      <th>...</th>\n",
       "      <td>...</td>\n",
       "      <td>...</td>\n",
       "      <td>...</td>\n",
       "      <td>...</td>\n",
       "      <td>...</td>\n",
       "      <td>...</td>\n",
       "      <td>...</td>\n",
       "      <td>...</td>\n",
       "      <td>...</td>\n",
       "      <td>...</td>\n",
       "      <td>...</td>\n",
       "      <td>...</td>\n",
       "      <td>...</td>\n",
       "      <td>...</td>\n",
       "      <td>...</td>\n",
       "      <td>...</td>\n",
       "      <td>...</td>\n",
       "      <td>...</td>\n",
       "      <td>...</td>\n",
       "      <td>...</td>\n",
       "      <td>...</td>\n",
       "    </tr>\n",
       "    <tr>\n",
       "      <th>107159</th>\n",
       "      <td>107159</td>\n",
       "      <td>107159</td>\n",
       "      <td>2019</td>\n",
       "      <td>1000218</td>\n",
       "      <td>11230</td>\n",
       "      <td>골목상권</td>\n",
       "      <td>치킨</td>\n",
       "      <td>1</td>\n",
       "      <td>61</td>\n",
       "      <td>39</td>\n",
       "      <td>...</td>\n",
       "      <td>364</td>\n",
       "      <td>33</td>\n",
       "      <td>197</td>\n",
       "      <td>220</td>\n",
       "      <td>163</td>\n",
       "      <td>178</td>\n",
       "      <td>135</td>\n",
       "      <td>107159</td>\n",
       "      <td>동대문구</td>\n",
       "      <td>14350715</td>\n",
       "    </tr>\n",
       "    <tr>\n",
       "      <th>107160</th>\n",
       "      <td>107160</td>\n",
       "      <td>107160</td>\n",
       "      <td>2019</td>\n",
       "      <td>1000190</td>\n",
       "      <td>11230</td>\n",
       "      <td>골목상권</td>\n",
       "      <td>분식</td>\n",
       "      <td>4</td>\n",
       "      <td>50</td>\n",
       "      <td>50</td>\n",
       "      <td>...</td>\n",
       "      <td>234</td>\n",
       "      <td>0</td>\n",
       "      <td>378</td>\n",
       "      <td>115</td>\n",
       "      <td>92</td>\n",
       "      <td>26</td>\n",
       "      <td>9</td>\n",
       "      <td>107160</td>\n",
       "      <td>동대문구</td>\n",
       "      <td>4751038</td>\n",
       "    </tr>\n",
       "    <tr>\n",
       "      <th>107161</th>\n",
       "      <td>107161</td>\n",
       "      <td>107161</td>\n",
       "      <td>2019</td>\n",
       "      <td>1000615</td>\n",
       "      <td>11530</td>\n",
       "      <td>골목상권</td>\n",
       "      <td>일식</td>\n",
       "      <td>1</td>\n",
       "      <td>58</td>\n",
       "      <td>42</td>\n",
       "      <td>...</td>\n",
       "      <td>3957</td>\n",
       "      <td>187</td>\n",
       "      <td>2855</td>\n",
       "      <td>1767</td>\n",
       "      <td>2865</td>\n",
       "      <td>1090</td>\n",
       "      <td>610</td>\n",
       "      <td>107161</td>\n",
       "      <td>구로구</td>\n",
       "      <td>107317646</td>\n",
       "    </tr>\n",
       "    <tr>\n",
       "      <th>107162</th>\n",
       "      <td>107162</td>\n",
       "      <td>107162</td>\n",
       "      <td>2019</td>\n",
       "      <td>1001416</td>\n",
       "      <td>11500</td>\n",
       "      <td>전통시장</td>\n",
       "      <td>카페</td>\n",
       "      <td>1</td>\n",
       "      <td>51</td>\n",
       "      <td>49</td>\n",
       "      <td>...</td>\n",
       "      <td>907</td>\n",
       "      <td>15</td>\n",
       "      <td>777</td>\n",
       "      <td>392</td>\n",
       "      <td>358</td>\n",
       "      <td>262</td>\n",
       "      <td>54</td>\n",
       "      <td>107162</td>\n",
       "      <td>강서구</td>\n",
       "      <td>13364379</td>\n",
       "    </tr>\n",
       "    <tr>\n",
       "      <th>107163</th>\n",
       "      <td>107163</td>\n",
       "      <td>107163</td>\n",
       "      <td>2019</td>\n",
       "      <td>1000181</td>\n",
       "      <td>11230</td>\n",
       "      <td>골목상권</td>\n",
       "      <td>양식</td>\n",
       "      <td>2</td>\n",
       "      <td>35</td>\n",
       "      <td>65</td>\n",
       "      <td>...</td>\n",
       "      <td>9718</td>\n",
       "      <td>469</td>\n",
       "      <td>6166</td>\n",
       "      <td>6432</td>\n",
       "      <td>4792</td>\n",
       "      <td>3474</td>\n",
       "      <td>1319</td>\n",
       "      <td>107163</td>\n",
       "      <td>동대문구</td>\n",
       "      <td>520087736</td>\n",
       "    </tr>\n",
       "  </tbody>\n",
       "</table>\n",
       "<p>107164 rows × 41 columns</p>\n",
       "</div>"
      ],
      "text/plain": [
       "        level_0   index  기준년코드     상권코드  시군구코드 상권구분코드명  업태구분명  점포수  남성매출비율  \\\n",
       "0             0       0   2017  1000973  11740    골목상권  패스트푸드    1      43   \n",
       "1             1       1   2017  1000973  11740    골목상권     한식   18      59   \n",
       "2             2       2   2017  1000973  11740    골목상권     분식    2      42   \n",
       "3             3       3   2017  1000973  11740    골목상권     치킨    4      57   \n",
       "4             4       4   2017  1000973  11740    골목상권     카페    5      46   \n",
       "...         ...     ...    ...      ...    ...     ...    ...  ...     ...   \n",
       "107159   107159  107159   2019  1000218  11230    골목상권     치킨    1      61   \n",
       "107160   107160  107160   2019  1000190  11230    골목상권     분식    4      50   \n",
       "107161   107161  107161   2019  1000615  11530    골목상권     일식    1      58   \n",
       "107162   107162  107162   2019  1001416  11500    전통시장     카페    1      51   \n",
       "107163   107163  107163   2019  1000181  11230    골목상권     양식    2      35   \n",
       "\n",
       "        여성매출비율  ...  여성매출건수  10대매출건수  20대매출건수  30대매출건수  40대매출건수  50대매출건수  \\\n",
       "0           57  ...    1324       23      487      733      609      310   \n",
       "1           41  ...    3481       94     1650     2209     1898     1431   \n",
       "2           58  ...    2900       98      606     1443     1082     1901   \n",
       "3           44  ...     955       32      897      693      528      236   \n",
       "4           55  ...    6104      207     3674     3401     1832     1083   \n",
       "...        ...  ...     ...      ...      ...      ...      ...      ...   \n",
       "107159      39  ...     364       33      197      220      163      178   \n",
       "107160      50  ...     234        0      378      115       92       26   \n",
       "107161      42  ...    3957      187     2855     1767     2865     1090   \n",
       "107162      49  ...     907       15      777      392      358      262   \n",
       "107163      65  ...    9718      469     6166     6432     4792     3474   \n",
       "\n",
       "        60대이상매출건수      ID  행정구역(구별)       총매출액  \n",
       "0             171       0       강동구   63291825  \n",
       "1             800       1       강동구  182823540  \n",
       "2             475       2       강동구   55157106  \n",
       "3              54       3       강동구   53978728  \n",
       "4             376       4       강동구   62908091  \n",
       "...           ...     ...       ...        ...  \n",
       "107159        135  107159      동대문구   14350715  \n",
       "107160          9  107160      동대문구    4751038  \n",
       "107161        610  107161       구로구  107317646  \n",
       "107162         54  107162       강서구   13364379  \n",
       "107163       1319  107163      동대문구  520087736  \n",
       "\n",
       "[107164 rows x 41 columns]"
      ]
     },
     "execution_count": 29,
     "metadata": {},
     "output_type": "execute_result"
    }
   ],
   "source": [
    "sale.drop('총매출',axis=1)"
   ]
  },
  {
   "cell_type": "code",
   "execution_count": 30,
   "id": "495eba2f",
   "metadata": {},
   "outputs": [],
   "source": [
    "sales=sale.groupby(['업태구분명','행정구역(구별)'])['총매출액'].sum()\n",
    "sales_a=pd.DataFrame(sales)"
   ]
  },
  {
   "cell_type": "code",
   "execution_count": 39,
   "id": "b279af64",
   "metadata": {},
   "outputs": [],
   "source": [
    "saled=sale.groupby(['업태구분명','행정구역(구별)'])['점포수'].sum()\n",
    "sales_b=pd.DataFrame(saled)"
   ]
  },
  {
   "cell_type": "code",
   "execution_count": 31,
   "id": "9fe18131",
   "metadata": {
    "scrolled": true
   },
   "outputs": [
    {
     "data": {
      "text/html": [
       "<div>\n",
       "<style scoped>\n",
       "    .dataframe tbody tr th:only-of-type {\n",
       "        vertical-align: middle;\n",
       "    }\n",
       "\n",
       "    .dataframe tbody tr th {\n",
       "        vertical-align: top;\n",
       "    }\n",
       "\n",
       "    .dataframe thead th {\n",
       "        text-align: right;\n",
       "    }\n",
       "</style>\n",
       "<table border=\"1\" class=\"dataframe\">\n",
       "  <thead>\n",
       "    <tr style=\"text-align: right;\">\n",
       "      <th></th>\n",
       "      <th></th>\n",
       "      <th>총매출액</th>\n",
       "    </tr>\n",
       "    <tr>\n",
       "      <th>업태구분명</th>\n",
       "      <th>행정구역(구별)</th>\n",
       "      <th></th>\n",
       "    </tr>\n",
       "  </thead>\n",
       "  <tbody>\n",
       "    <tr>\n",
       "      <th rowspan=\"5\" valign=\"top\">분식</th>\n",
       "      <th>강남구</th>\n",
       "      <td>701085042229</td>\n",
       "    </tr>\n",
       "    <tr>\n",
       "      <th>강동구</th>\n",
       "      <td>154303230373</td>\n",
       "    </tr>\n",
       "    <tr>\n",
       "      <th>강북구</th>\n",
       "      <td>64295586056</td>\n",
       "    </tr>\n",
       "    <tr>\n",
       "      <th>강서구</th>\n",
       "      <td>81094837249</td>\n",
       "    </tr>\n",
       "    <tr>\n",
       "      <th>관악구</th>\n",
       "      <td>181791697565</td>\n",
       "    </tr>\n",
       "    <tr>\n",
       "      <th>...</th>\n",
       "      <th>...</th>\n",
       "      <td>...</td>\n",
       "    </tr>\n",
       "    <tr>\n",
       "      <th rowspan=\"5\" valign=\"top\">한식</th>\n",
       "      <th>용산구</th>\n",
       "      <td>830591958728</td>\n",
       "    </tr>\n",
       "    <tr>\n",
       "      <th>은평구</th>\n",
       "      <td>483330378626</td>\n",
       "    </tr>\n",
       "    <tr>\n",
       "      <th>종로구</th>\n",
       "      <td>2007858515842</td>\n",
       "    </tr>\n",
       "    <tr>\n",
       "      <th>중구</th>\n",
       "      <td>1925103662455</td>\n",
       "    </tr>\n",
       "    <tr>\n",
       "      <th>중랑구</th>\n",
       "      <td>495281937909</td>\n",
       "    </tr>\n",
       "  </tbody>\n",
       "</table>\n",
       "<p>225 rows × 1 columns</p>\n",
       "</div>"
      ],
      "text/plain": [
       "                         총매출액\n",
       "업태구분명 행정구역(구별)               \n",
       "분식    강남구        701085042229\n",
       "      강동구        154303230373\n",
       "      강북구         64295586056\n",
       "      강서구         81094837249\n",
       "      관악구        181791697565\n",
       "...                       ...\n",
       "한식    용산구        830591958728\n",
       "      은평구        483330378626\n",
       "      종로구       2007858515842\n",
       "      중구        1925103662455\n",
       "      중랑구        495281937909\n",
       "\n",
       "[225 rows x 1 columns]"
      ]
     },
     "execution_count": 31,
     "metadata": {},
     "output_type": "execute_result"
    }
   ],
   "source": [
    "sales_a"
   ]
  },
  {
   "cell_type": "code",
   "execution_count": 36,
   "id": "a40645ad",
   "metadata": {},
   "outputs": [],
   "source": [
    "salesf = sales_a.reset_index()"
   ]
  },
  {
   "cell_type": "code",
   "execution_count": 37,
   "id": "9a96b181",
   "metadata": {},
   "outputs": [
    {
     "data": {
      "text/html": [
       "<div>\n",
       "<style scoped>\n",
       "    .dataframe tbody tr th:only-of-type {\n",
       "        vertical-align: middle;\n",
       "    }\n",
       "\n",
       "    .dataframe tbody tr th {\n",
       "        vertical-align: top;\n",
       "    }\n",
       "\n",
       "    .dataframe thead th {\n",
       "        text-align: right;\n",
       "    }\n",
       "</style>\n",
       "<table border=\"1\" class=\"dataframe\">\n",
       "  <thead>\n",
       "    <tr style=\"text-align: right;\">\n",
       "      <th></th>\n",
       "      <th>업태구분명</th>\n",
       "      <th>행정구역(구별)</th>\n",
       "      <th>총매출액</th>\n",
       "    </tr>\n",
       "  </thead>\n",
       "  <tbody>\n",
       "    <tr>\n",
       "      <th>0</th>\n",
       "      <td>분식</td>\n",
       "      <td>강남구</td>\n",
       "      <td>701085042229</td>\n",
       "    </tr>\n",
       "    <tr>\n",
       "      <th>1</th>\n",
       "      <td>분식</td>\n",
       "      <td>강동구</td>\n",
       "      <td>154303230373</td>\n",
       "    </tr>\n",
       "    <tr>\n",
       "      <th>2</th>\n",
       "      <td>분식</td>\n",
       "      <td>강북구</td>\n",
       "      <td>64295586056</td>\n",
       "    </tr>\n",
       "    <tr>\n",
       "      <th>3</th>\n",
       "      <td>분식</td>\n",
       "      <td>강서구</td>\n",
       "      <td>81094837249</td>\n",
       "    </tr>\n",
       "    <tr>\n",
       "      <th>4</th>\n",
       "      <td>분식</td>\n",
       "      <td>관악구</td>\n",
       "      <td>181791697565</td>\n",
       "    </tr>\n",
       "    <tr>\n",
       "      <th>...</th>\n",
       "      <td>...</td>\n",
       "      <td>...</td>\n",
       "      <td>...</td>\n",
       "    </tr>\n",
       "    <tr>\n",
       "      <th>220</th>\n",
       "      <td>한식</td>\n",
       "      <td>용산구</td>\n",
       "      <td>830591958728</td>\n",
       "    </tr>\n",
       "    <tr>\n",
       "      <th>221</th>\n",
       "      <td>한식</td>\n",
       "      <td>은평구</td>\n",
       "      <td>483330378626</td>\n",
       "    </tr>\n",
       "    <tr>\n",
       "      <th>222</th>\n",
       "      <td>한식</td>\n",
       "      <td>종로구</td>\n",
       "      <td>2007858515842</td>\n",
       "    </tr>\n",
       "    <tr>\n",
       "      <th>223</th>\n",
       "      <td>한식</td>\n",
       "      <td>중구</td>\n",
       "      <td>1925103662455</td>\n",
       "    </tr>\n",
       "    <tr>\n",
       "      <th>224</th>\n",
       "      <td>한식</td>\n",
       "      <td>중랑구</td>\n",
       "      <td>495281937909</td>\n",
       "    </tr>\n",
       "  </tbody>\n",
       "</table>\n",
       "<p>225 rows × 3 columns</p>\n",
       "</div>"
      ],
      "text/plain": [
       "    업태구분명 행정구역(구별)           총매출액\n",
       "0      분식      강남구   701085042229\n",
       "1      분식      강동구   154303230373\n",
       "2      분식      강북구    64295586056\n",
       "3      분식      강서구    81094837249\n",
       "4      분식      관악구   181791697565\n",
       "..    ...      ...            ...\n",
       "220    한식      용산구   830591958728\n",
       "221    한식      은평구   483330378626\n",
       "222    한식      종로구  2007858515842\n",
       "223    한식       중구  1925103662455\n",
       "224    한식      중랑구   495281937909\n",
       "\n",
       "[225 rows x 3 columns]"
      ]
     },
     "execution_count": 37,
     "metadata": {},
     "output_type": "execute_result"
    }
   ],
   "source": [
    "salesf"
   ]
  },
  {
   "cell_type": "code",
   "execution_count": 41,
   "id": "0704d150",
   "metadata": {},
   "outputs": [],
   "source": [
    "salesg=sales_b.reset_index()"
   ]
  },
  {
   "cell_type": "code",
   "execution_count": 46,
   "id": "65890345",
   "metadata": {},
   "outputs": [
    {
     "data": {
      "text/html": [
       "<div>\n",
       "<style scoped>\n",
       "    .dataframe tbody tr th:only-of-type {\n",
       "        vertical-align: middle;\n",
       "    }\n",
       "\n",
       "    .dataframe tbody tr th {\n",
       "        vertical-align: top;\n",
       "    }\n",
       "\n",
       "    .dataframe thead th {\n",
       "        text-align: right;\n",
       "    }\n",
       "</style>\n",
       "<table border=\"1\" class=\"dataframe\">\n",
       "  <thead>\n",
       "    <tr style=\"text-align: right;\">\n",
       "      <th></th>\n",
       "      <th>업태구분명</th>\n",
       "      <th>행정구역(구별)</th>\n",
       "      <th>점포수</th>\n",
       "      <th>총매출액</th>\n",
       "    </tr>\n",
       "  </thead>\n",
       "  <tbody>\n",
       "    <tr>\n",
       "      <th>0</th>\n",
       "      <td>분식</td>\n",
       "      <td>강남구</td>\n",
       "      <td>12627</td>\n",
       "      <td>701085042229</td>\n",
       "    </tr>\n",
       "    <tr>\n",
       "      <th>1</th>\n",
       "      <td>분식</td>\n",
       "      <td>강동구</td>\n",
       "      <td>4290</td>\n",
       "      <td>154303230373</td>\n",
       "    </tr>\n",
       "    <tr>\n",
       "      <th>2</th>\n",
       "      <td>분식</td>\n",
       "      <td>강북구</td>\n",
       "      <td>2572</td>\n",
       "      <td>64295586056</td>\n",
       "    </tr>\n",
       "    <tr>\n",
       "      <th>3</th>\n",
       "      <td>분식</td>\n",
       "      <td>강서구</td>\n",
       "      <td>3390</td>\n",
       "      <td>81094837249</td>\n",
       "    </tr>\n",
       "    <tr>\n",
       "      <th>4</th>\n",
       "      <td>분식</td>\n",
       "      <td>관악구</td>\n",
       "      <td>5621</td>\n",
       "      <td>181791697565</td>\n",
       "    </tr>\n",
       "    <tr>\n",
       "      <th>...</th>\n",
       "      <td>...</td>\n",
       "      <td>...</td>\n",
       "      <td>...</td>\n",
       "      <td>...</td>\n",
       "    </tr>\n",
       "    <tr>\n",
       "      <th>220</th>\n",
       "      <td>한식</td>\n",
       "      <td>용산구</td>\n",
       "      <td>14406</td>\n",
       "      <td>830591958728</td>\n",
       "    </tr>\n",
       "    <tr>\n",
       "      <th>221</th>\n",
       "      <td>한식</td>\n",
       "      <td>은평구</td>\n",
       "      <td>11539</td>\n",
       "      <td>483330378626</td>\n",
       "    </tr>\n",
       "    <tr>\n",
       "      <th>222</th>\n",
       "      <td>한식</td>\n",
       "      <td>종로구</td>\n",
       "      <td>35113</td>\n",
       "      <td>2007858515842</td>\n",
       "    </tr>\n",
       "    <tr>\n",
       "      <th>223</th>\n",
       "      <td>한식</td>\n",
       "      <td>중구</td>\n",
       "      <td>35426</td>\n",
       "      <td>1925103662455</td>\n",
       "    </tr>\n",
       "    <tr>\n",
       "      <th>224</th>\n",
       "      <td>한식</td>\n",
       "      <td>중랑구</td>\n",
       "      <td>13322</td>\n",
       "      <td>495281937909</td>\n",
       "    </tr>\n",
       "  </tbody>\n",
       "</table>\n",
       "<p>225 rows × 4 columns</p>\n",
       "</div>"
      ],
      "text/plain": [
       "    업태구분명 행정구역(구별)    점포수           총매출액\n",
       "0      분식      강남구  12627   701085042229\n",
       "1      분식      강동구   4290   154303230373\n",
       "2      분식      강북구   2572    64295586056\n",
       "3      분식      강서구   3390    81094837249\n",
       "4      분식      관악구   5621   181791697565\n",
       "..    ...      ...    ...            ...\n",
       "220    한식      용산구  14406   830591958728\n",
       "221    한식      은평구  11539   483330378626\n",
       "222    한식      종로구  35113  2007858515842\n",
       "223    한식       중구  35426  1925103662455\n",
       "224    한식      중랑구  13322   495281937909\n",
       "\n",
       "[225 rows x 4 columns]"
      ]
     },
     "execution_count": 46,
     "metadata": {},
     "output_type": "execute_result"
    }
   ],
   "source": [
    "sums=salesg.merge(salesf,on=['행정구역(구별)','업태구분명'])\n",
    "sums"
   ]
  },
  {
   "cell_type": "code",
   "execution_count": 48,
   "id": "3382f5ff",
   "metadata": {},
   "outputs": [
    {
     "data": {
      "text/html": [
       "<div>\n",
       "<style scoped>\n",
       "    .dataframe tbody tr th:only-of-type {\n",
       "        vertical-align: middle;\n",
       "    }\n",
       "\n",
       "    .dataframe tbody tr th {\n",
       "        vertical-align: top;\n",
       "    }\n",
       "\n",
       "    .dataframe thead th {\n",
       "        text-align: right;\n",
       "    }\n",
       "</style>\n",
       "<table border=\"1\" class=\"dataframe\">\n",
       "  <thead>\n",
       "    <tr style=\"text-align: right;\">\n",
       "      <th></th>\n",
       "      <th>업태구분명</th>\n",
       "      <th>행정구역(구별)</th>\n",
       "      <th>점포수</th>\n",
       "      <th>총매출액</th>\n",
       "      <th>평균매출액</th>\n",
       "    </tr>\n",
       "  </thead>\n",
       "  <tbody>\n",
       "    <tr>\n",
       "      <th>0</th>\n",
       "      <td>분식</td>\n",
       "      <td>강남구</td>\n",
       "      <td>12627</td>\n",
       "      <td>701085042229</td>\n",
       "      <td>5.552269e+07</td>\n",
       "    </tr>\n",
       "    <tr>\n",
       "      <th>1</th>\n",
       "      <td>분식</td>\n",
       "      <td>강동구</td>\n",
       "      <td>4290</td>\n",
       "      <td>154303230373</td>\n",
       "      <td>3.596812e+07</td>\n",
       "    </tr>\n",
       "    <tr>\n",
       "      <th>2</th>\n",
       "      <td>분식</td>\n",
       "      <td>강북구</td>\n",
       "      <td>2572</td>\n",
       "      <td>64295586056</td>\n",
       "      <td>2.499828e+07</td>\n",
       "    </tr>\n",
       "    <tr>\n",
       "      <th>3</th>\n",
       "      <td>분식</td>\n",
       "      <td>강서구</td>\n",
       "      <td>3390</td>\n",
       "      <td>81094837249</td>\n",
       "      <td>2.392178e+07</td>\n",
       "    </tr>\n",
       "    <tr>\n",
       "      <th>4</th>\n",
       "      <td>분식</td>\n",
       "      <td>관악구</td>\n",
       "      <td>5621</td>\n",
       "      <td>181791697565</td>\n",
       "      <td>3.234152e+07</td>\n",
       "    </tr>\n",
       "    <tr>\n",
       "      <th>...</th>\n",
       "      <td>...</td>\n",
       "      <td>...</td>\n",
       "      <td>...</td>\n",
       "      <td>...</td>\n",
       "      <td>...</td>\n",
       "    </tr>\n",
       "    <tr>\n",
       "      <th>220</th>\n",
       "      <td>한식</td>\n",
       "      <td>용산구</td>\n",
       "      <td>14406</td>\n",
       "      <td>830591958728</td>\n",
       "      <td>5.765597e+07</td>\n",
       "    </tr>\n",
       "    <tr>\n",
       "      <th>221</th>\n",
       "      <td>한식</td>\n",
       "      <td>은평구</td>\n",
       "      <td>11539</td>\n",
       "      <td>483330378626</td>\n",
       "      <td>4.188668e+07</td>\n",
       "    </tr>\n",
       "    <tr>\n",
       "      <th>222</th>\n",
       "      <td>한식</td>\n",
       "      <td>종로구</td>\n",
       "      <td>35113</td>\n",
       "      <td>2007858515842</td>\n",
       "      <td>5.718277e+07</td>\n",
       "    </tr>\n",
       "    <tr>\n",
       "      <th>223</th>\n",
       "      <td>한식</td>\n",
       "      <td>중구</td>\n",
       "      <td>35426</td>\n",
       "      <td>1925103662455</td>\n",
       "      <td>5.434155e+07</td>\n",
       "    </tr>\n",
       "    <tr>\n",
       "      <th>224</th>\n",
       "      <td>한식</td>\n",
       "      <td>중랑구</td>\n",
       "      <td>13322</td>\n",
       "      <td>495281937909</td>\n",
       "      <td>3.717775e+07</td>\n",
       "    </tr>\n",
       "  </tbody>\n",
       "</table>\n",
       "<p>225 rows × 5 columns</p>\n",
       "</div>"
      ],
      "text/plain": [
       "    업태구분명 행정구역(구별)    점포수           총매출액         평균매출액\n",
       "0      분식      강남구  12627   701085042229  5.552269e+07\n",
       "1      분식      강동구   4290   154303230373  3.596812e+07\n",
       "2      분식      강북구   2572    64295586056  2.499828e+07\n",
       "3      분식      강서구   3390    81094837249  2.392178e+07\n",
       "4      분식      관악구   5621   181791697565  3.234152e+07\n",
       "..    ...      ...    ...            ...           ...\n",
       "220    한식      용산구  14406   830591958728  5.765597e+07\n",
       "221    한식      은평구  11539   483330378626  4.188668e+07\n",
       "222    한식      종로구  35113  2007858515842  5.718277e+07\n",
       "223    한식       중구  35426  1925103662455  5.434155e+07\n",
       "224    한식      중랑구  13322   495281937909  3.717775e+07\n",
       "\n",
       "[225 rows x 5 columns]"
      ]
     },
     "execution_count": 48,
     "metadata": {},
     "output_type": "execute_result"
    }
   ],
   "source": [
    "sums['평균매출액']=sums['총매출액']/sums['점포수']\n",
    "sums"
   ]
  },
  {
   "cell_type": "code",
   "execution_count": 53,
   "id": "8192fa95",
   "metadata": {},
   "outputs": [],
   "source": [
    "sums_j=sums.loc[sums['업태구분명']=='주점']\n",
    "sums_ju=pd.DataFrame(sums_j)"
   ]
  },
  {
   "cell_type": "code",
   "execution_count": 71,
   "id": "e7bb26f8",
   "metadata": {},
   "outputs": [
    {
     "data": {
      "text/html": [
       "<div>\n",
       "<style scoped>\n",
       "    .dataframe tbody tr th:only-of-type {\n",
       "        vertical-align: middle;\n",
       "    }\n",
       "\n",
       "    .dataframe tbody tr th {\n",
       "        vertical-align: top;\n",
       "    }\n",
       "\n",
       "    .dataframe thead th {\n",
       "        text-align: right;\n",
       "    }\n",
       "</style>\n",
       "<table border=\"1\" class=\"dataframe\">\n",
       "  <thead>\n",
       "    <tr style=\"text-align: right;\">\n",
       "      <th></th>\n",
       "      <th>업태구분명</th>\n",
       "      <th>행정구역(구별)</th>\n",
       "      <th>점포수</th>\n",
       "      <th>총매출액</th>\n",
       "      <th>평균매출액</th>\n",
       "    </tr>\n",
       "  </thead>\n",
       "  <tbody>\n",
       "    <tr>\n",
       "      <th>75</th>\n",
       "      <td>주점</td>\n",
       "      <td>강남구</td>\n",
       "      <td>10457</td>\n",
       "      <td>702518699381</td>\n",
       "      <td>6.718167e+07</td>\n",
       "    </tr>\n",
       "    <tr>\n",
       "      <th>76</th>\n",
       "      <td>주점</td>\n",
       "      <td>강동구</td>\n",
       "      <td>7038</td>\n",
       "      <td>283541409983</td>\n",
       "      <td>4.028721e+07</td>\n",
       "    </tr>\n",
       "    <tr>\n",
       "      <th>77</th>\n",
       "      <td>주점</td>\n",
       "      <td>강북구</td>\n",
       "      <td>5201</td>\n",
       "      <td>227329449460</td>\n",
       "      <td>4.370880e+07</td>\n",
       "    </tr>\n",
       "    <tr>\n",
       "      <th>78</th>\n",
       "      <td>주점</td>\n",
       "      <td>강서구</td>\n",
       "      <td>6475</td>\n",
       "      <td>251512671028</td>\n",
       "      <td>3.884366e+07</td>\n",
       "    </tr>\n",
       "    <tr>\n",
       "      <th>79</th>\n",
       "      <td>주점</td>\n",
       "      <td>관악구</td>\n",
       "      <td>8382</td>\n",
       "      <td>455119553254</td>\n",
       "      <td>5.429725e+07</td>\n",
       "    </tr>\n",
       "  </tbody>\n",
       "</table>\n",
       "</div>"
      ],
      "text/plain": [
       "   업태구분명 행정구역(구별)    점포수          총매출액         평균매출액\n",
       "75    주점      강남구  10457  702518699381  6.718167e+07\n",
       "76    주점      강동구   7038  283541409983  4.028721e+07\n",
       "77    주점      강북구   5201  227329449460  4.370880e+07\n",
       "78    주점      강서구   6475  251512671028  3.884366e+07\n",
       "79    주점      관악구   8382  455119553254  5.429725e+07"
      ]
     },
     "execution_count": 71,
     "metadata": {},
     "output_type": "execute_result"
    }
   ],
   "source": [
    "sums_ju.head(5)"
   ]
  },
  {
   "cell_type": "code",
   "execution_count": 73,
   "id": "00f843b9",
   "metadata": {},
   "outputs": [],
   "source": [
    "sums_c=sums.loc[sums['업태구분명']=='카페']\n",
    "sums_ca=pd.DataFrame(sums_c)"
   ]
  },
  {
   "cell_type": "code",
   "execution_count": 74,
   "id": "220a26f4",
   "metadata": {},
   "outputs": [
    {
     "data": {
      "text/html": [
       "<div>\n",
       "<style scoped>\n",
       "    .dataframe tbody tr th:only-of-type {\n",
       "        vertical-align: middle;\n",
       "    }\n",
       "\n",
       "    .dataframe tbody tr th {\n",
       "        vertical-align: top;\n",
       "    }\n",
       "\n",
       "    .dataframe thead th {\n",
       "        text-align: right;\n",
       "    }\n",
       "</style>\n",
       "<table border=\"1\" class=\"dataframe\">\n",
       "  <thead>\n",
       "    <tr style=\"text-align: right;\">\n",
       "      <th></th>\n",
       "      <th>업태구분명</th>\n",
       "      <th>행정구역(구별)</th>\n",
       "      <th>점포수</th>\n",
       "      <th>총매출액</th>\n",
       "      <th>평균매출액</th>\n",
       "    </tr>\n",
       "  </thead>\n",
       "  <tbody>\n",
       "    <tr>\n",
       "      <th>150</th>\n",
       "      <td>카페</td>\n",
       "      <td>강남구</td>\n",
       "      <td>19831</td>\n",
       "      <td>1124968458425</td>\n",
       "      <td>5.672777e+07</td>\n",
       "    </tr>\n",
       "    <tr>\n",
       "      <th>151</th>\n",
       "      <td>카페</td>\n",
       "      <td>강동구</td>\n",
       "      <td>4409</td>\n",
       "      <td>130807497441</td>\n",
       "      <td>2.966829e+07</td>\n",
       "    </tr>\n",
       "    <tr>\n",
       "      <th>152</th>\n",
       "      <td>카페</td>\n",
       "      <td>강북구</td>\n",
       "      <td>1897</td>\n",
       "      <td>61679055345</td>\n",
       "      <td>3.251400e+07</td>\n",
       "    </tr>\n",
       "    <tr>\n",
       "      <th>153</th>\n",
       "      <td>카페</td>\n",
       "      <td>강서구</td>\n",
       "      <td>2892</td>\n",
       "      <td>75602134515</td>\n",
       "      <td>2.614182e+07</td>\n",
       "    </tr>\n",
       "    <tr>\n",
       "      <th>154</th>\n",
       "      <td>카페</td>\n",
       "      <td>관악구</td>\n",
       "      <td>4862</td>\n",
       "      <td>204263103705</td>\n",
       "      <td>4.201216e+07</td>\n",
       "    </tr>\n",
       "  </tbody>\n",
       "</table>\n",
       "</div>"
      ],
      "text/plain": [
       "    업태구분명 행정구역(구별)    점포수           총매출액         평균매출액\n",
       "150    카페      강남구  19831  1124968458425  5.672777e+07\n",
       "151    카페      강동구   4409   130807497441  2.966829e+07\n",
       "152    카페      강북구   1897    61679055345  3.251400e+07\n",
       "153    카페      강서구   2892    75602134515  2.614182e+07\n",
       "154    카페      관악구   4862   204263103705  4.201216e+07"
      ]
     },
     "execution_count": 74,
     "metadata": {},
     "output_type": "execute_result"
    }
   ],
   "source": [
    "sums_ca.head(5)"
   ]
  },
  {
   "cell_type": "code",
   "execution_count": 72,
   "id": "332f8c33",
   "metadata": {
    "scrolled": true
   },
   "outputs": [
    {
     "data": {
      "text/html": [
       "<div>\n",
       "<style scoped>\n",
       "    .dataframe tbody tr th:only-of-type {\n",
       "        vertical-align: middle;\n",
       "    }\n",
       "\n",
       "    .dataframe tbody tr th {\n",
       "        vertical-align: top;\n",
       "    }\n",
       "\n",
       "    .dataframe thead th {\n",
       "        text-align: right;\n",
       "    }\n",
       "</style>\n",
       "<table border=\"1\" class=\"dataframe\">\n",
       "  <thead>\n",
       "    <tr style=\"text-align: right;\">\n",
       "      <th></th>\n",
       "      <th>업태구분명</th>\n",
       "      <th>행정구역(구별)</th>\n",
       "      <th>점포수</th>\n",
       "      <th>총매출액</th>\n",
       "      <th>평균매출액</th>\n",
       "      <th>기간</th>\n",
       "      <th>광역상권</th>\n",
       "      <th>임대료(천원/㎡)</th>\n",
       "      <th>공실률(%)</th>\n",
       "      <th>투자수익률(%)</th>\n",
       "      <th>소득수익률(%)</th>\n",
       "      <th>자본수익률(%)</th>\n",
       "      <th>시군구코드</th>\n",
       "      <th>ID</th>\n",
       "    </tr>\n",
       "  </thead>\n",
       "  <tbody>\n",
       "    <tr>\n",
       "      <th>0</th>\n",
       "      <td>주점</td>\n",
       "      <td>강남구</td>\n",
       "      <td>10457</td>\n",
       "      <td>702518699381</td>\n",
       "      <td>6.718167e+07</td>\n",
       "      <td>2018.0</td>\n",
       "      <td>NaN</td>\n",
       "      <td>66.676190</td>\n",
       "      <td>8.719048</td>\n",
       "      <td>7.961429</td>\n",
       "      <td>3.287143</td>\n",
       "      <td>4.564286</td>\n",
       "      <td>11680.0</td>\n",
       "      <td>48.238095</td>\n",
       "    </tr>\n",
       "    <tr>\n",
       "      <th>1</th>\n",
       "      <td>주점</td>\n",
       "      <td>강동구</td>\n",
       "      <td>7038</td>\n",
       "      <td>283541409983</td>\n",
       "      <td>4.028721e+07</td>\n",
       "      <td>2018.0</td>\n",
       "      <td>NaN</td>\n",
       "      <td>35.833333</td>\n",
       "      <td>7.300000</td>\n",
       "      <td>6.893333</td>\n",
       "      <td>2.570000</td>\n",
       "      <td>4.243333</td>\n",
       "      <td>11740.0</td>\n",
       "      <td>72.666667</td>\n",
       "    </tr>\n",
       "    <tr>\n",
       "      <th>2</th>\n",
       "      <td>주점</td>\n",
       "      <td>강북구</td>\n",
       "      <td>5201</td>\n",
       "      <td>227329449460</td>\n",
       "      <td>4.370880e+07</td>\n",
       "      <td>2018.0</td>\n",
       "      <td>NaN</td>\n",
       "      <td>56.800000</td>\n",
       "      <td>5.066667</td>\n",
       "      <td>6.386667</td>\n",
       "      <td>4.396667</td>\n",
       "      <td>1.926667</td>\n",
       "      <td>11305.0</td>\n",
       "      <td>64.666667</td>\n",
       "    </tr>\n",
       "    <tr>\n",
       "      <th>3</th>\n",
       "      <td>주점</td>\n",
       "      <td>강서구</td>\n",
       "      <td>6475</td>\n",
       "      <td>251512671028</td>\n",
       "      <td>3.884366e+07</td>\n",
       "      <td>2018.0</td>\n",
       "      <td>NaN</td>\n",
       "      <td>28.633333</td>\n",
       "      <td>10.733333</td>\n",
       "      <td>7.750000</td>\n",
       "      <td>3.186667</td>\n",
       "      <td>4.450000</td>\n",
       "      <td>11500.0</td>\n",
       "      <td>75.666667</td>\n",
       "    </tr>\n",
       "    <tr>\n",
       "      <th>4</th>\n",
       "      <td>주점</td>\n",
       "      <td>관악구</td>\n",
       "      <td>8382</td>\n",
       "      <td>455119553254</td>\n",
       "      <td>5.429725e+07</td>\n",
       "      <td>2018.0</td>\n",
       "      <td>NaN</td>\n",
       "      <td>68.400000</td>\n",
       "      <td>3.550000</td>\n",
       "      <td>7.438333</td>\n",
       "      <td>4.323333</td>\n",
       "      <td>3.018333</td>\n",
       "      <td>11620.0</td>\n",
       "      <td>64.166667</td>\n",
       "    </tr>\n",
       "  </tbody>\n",
       "</table>\n",
       "</div>"
      ],
      "text/plain": [
       "  업태구분명 행정구역(구별)    점포수          총매출액         평균매출액      기간 광역상권  임대료(천원/㎡)  \\\n",
       "0    주점      강남구  10457  702518699381  6.718167e+07  2018.0  NaN  66.676190   \n",
       "1    주점      강동구   7038  283541409983  4.028721e+07  2018.0  NaN  35.833333   \n",
       "2    주점      강북구   5201  227329449460  4.370880e+07  2018.0  NaN  56.800000   \n",
       "3    주점      강서구   6475  251512671028  3.884366e+07  2018.0  NaN  28.633333   \n",
       "4    주점      관악구   8382  455119553254  5.429725e+07  2018.0  NaN  68.400000   \n",
       "\n",
       "      공실률(%)  투자수익률(%)  소득수익률(%)  자본수익률(%)    시군구코드         ID  \n",
       "0   8.719048  7.961429  3.287143  4.564286  11680.0  48.238095  \n",
       "1   7.300000  6.893333  2.570000  4.243333  11740.0  72.666667  \n",
       "2   5.066667  6.386667  4.396667  1.926667  11305.0  64.666667  \n",
       "3  10.733333  7.750000  3.186667  4.450000  11500.0  75.666667  \n",
       "4   3.550000  7.438333  4.323333  3.018333  11620.0  64.166667  "
      ]
     },
     "execution_count": 72,
     "metadata": {},
     "output_type": "execute_result"
    }
   ],
   "source": [
    "sumfin=pd.merge(sums_ju,mean,left_on='행정구역(구별)',right_on='행정구역(구별)',how='inner')\n",
    "sumfin.head(5)"
   ]
  },
  {
   "cell_type": "code",
   "execution_count": 79,
   "id": "f5009145",
   "metadata": {
    "scrolled": true
   },
   "outputs": [
    {
     "data": {
      "text/plain": [
       "Text(66.67619047619048, 67181667.72315195, '강남구')"
      ]
     },
     "execution_count": 79,
     "metadata": {},
     "output_type": "execute_result"
    },
    {
     "data": {
      "text/plain": [
       "Text(35.833333333333336, 40287213.69465757, '강동구')"
      ]
     },
     "execution_count": 79,
     "metadata": {},
     "output_type": "execute_result"
    },
    {
     "data": {
      "text/plain": [
       "Text(56.800000000000004, 43708796.28148433, '강북구')"
      ]
     },
     "execution_count": 79,
     "metadata": {},
     "output_type": "execute_result"
    },
    {
     "data": {
      "text/plain": [
       "Text(28.633333333333336, 38843655.757220075, '강서구')"
      ]
     },
     "execution_count": 79,
     "metadata": {},
     "output_type": "execute_result"
    },
    {
     "data": {
      "text/plain": [
       "Text(68.39999999999999, 54297250.44786447, '관악구')"
      ]
     },
     "execution_count": 79,
     "metadata": {},
     "output_type": "execute_result"
    },
    {
     "data": {
      "text/plain": [
       "Text(47.43333333333333, 55103588.19424779, '광진구')"
      ]
     },
     "execution_count": 79,
     "metadata": {},
     "output_type": "execute_result"
    },
    {
     "data": {
      "text/plain": [
       "Text(43.4, 39726063.814141065, '구로구')"
      ]
     },
     "execution_count": 79,
     "metadata": {},
     "output_type": "execute_result"
    },
    {
     "data": {
      "text/plain": [
       "Text(37.87777777777777, 32749311.661511004, '동대문구')"
      ]
     },
     "execution_count": 79,
     "metadata": {},
     "output_type": "execute_result"
    },
    {
     "data": {
      "text/plain": [
       "Text(58.43333333333334, 47682046.52951192, '동작구')"
      ]
     },
     "execution_count": 79,
     "metadata": {},
     "output_type": "execute_result"
    },
    {
     "data": {
      "text/plain": [
       "Text(54.96666666666667, 56064858.68898121, '마포구')"
      ]
     },
     "execution_count": 79,
     "metadata": {},
     "output_type": "execute_result"
    },
    {
     "data": {
      "text/plain": [
       "Text(27.633333333333336, 66688994.03806228, '서초구')"
      ]
     },
     "execution_count": 79,
     "metadata": {},
     "output_type": "execute_result"
    },
    {
     "data": {
      "text/plain": [
       "Text(38.833333333333336, 51485264.121733785, '성동구')"
      ]
     },
     "execution_count": 79,
     "metadata": {},
     "output_type": "execute_result"
    },
    {
     "data": {
      "text/plain": [
       "Text(44.300000000000004, 44155962.96696823, '성북구')"
      ]
     },
     "execution_count": 79,
     "metadata": {},
     "output_type": "execute_result"
    },
    {
     "data": {
      "text/plain": [
       "Text(42.96666666666667, 52002594.50990296, '송파구')"
      ]
     },
     "execution_count": 79,
     "metadata": {},
     "output_type": "execute_result"
    },
    {
     "data": {
      "text/plain": [
       "Text(34.1, 30931574.322150845, '양천구')"
      ]
     },
     "execution_count": 79,
     "metadata": {},
     "output_type": "execute_result"
    },
    {
     "data": {
      "text/plain": [
       "Text(38.96666666666667, 43160935.141964406, '영등포구')"
      ]
     },
     "execution_count": 79,
     "metadata": {},
     "output_type": "execute_result"
    },
    {
     "data": {
      "text/plain": [
       "Text(36.516666666666666, 75579193.42298697, '용산구')"
      ]
     },
     "execution_count": 79,
     "metadata": {},
     "output_type": "execute_result"
    },
    {
     "data": {
      "text/plain": [
       "Text(37.56666666666666, 34154511.44538545, '은평구')"
      ]
     },
     "execution_count": 79,
     "metadata": {},
     "output_type": "execute_result"
    },
    {
     "data": {
      "text/plain": [
       "Text(66.12500000000001, 58215311.36176817, '종로구')"
      ]
     },
     "execution_count": 79,
     "metadata": {},
     "output_type": "execute_result"
    },
    {
     "data": {
      "text/plain": [
       "Text(120.58181818181819, 44630468.850681536, '중구')"
      ]
     },
     "execution_count": 79,
     "metadata": {},
     "output_type": "execute_result"
    },
    {
     "data": {
      "text/plain": [
       "Text(0.5, 0, '2017-2019년 평균 임대료(천원/㎡)')"
      ]
     },
     "execution_count": 79,
     "metadata": {},
     "output_type": "execute_result"
    },
    {
     "data": {
      "text/plain": [
       "Text(0, 0.5, '2017-2019년 주점 평균 매출액')"
      ]
     },
     "execution_count": 79,
     "metadata": {},
     "output_type": "execute_result"
    },
    {
     "data": {
      "text/plain": [
       "Text(0.5, 1.0, '2017년-2019년 구별 평균 임대료와 주점 평균 매출액 산점도')"
      ]
     },
     "execution_count": 79,
     "metadata": {},
     "output_type": "execute_result"
    },
    {
     "data": {
      "image/png": "[encoded data removed]",
      "text/plain": [
       "<Figure size 936x936 with 1 Axes>"
      ]
     },
     "metadata": {
      "needs_background": "light"
     },
     "output_type": "display_data"
    }
   ],
   "source": [
    "\n",
    "fig, ax = plt.subplots()\n",
    "my_scatter_plot = ax.scatter(\n",
    "sumfin[\"임대료(천원/㎡)\"], \n",
    "sumfin[\"평균매출액\"],\n",
    "color='r'\n",
    ",s=80, \n",
    ")\n",
    "plt.gcf().set_size_inches((13, 13)) \n",
    "\n",
    "for i, txt in enumerate(sumfin[\"행정구역(구별)\"]):\n",
    "    plt.annotate(txt, (sumfin[\"임대료(천원/㎡)\"][i], sumfin[\"평균매출액\"] [i]))\n",
    "\n",
    "ax.set_xlabel(\"2017-2019년 평균 임대료(천원/㎡)\")\n",
    "ax.set_ylabel('2017-2019년 주점 평균 매출액')\n",
    "ax.set_title(\"2017년-2019년 구별 평균 임대료와 주점 평균 매출액 산점도\")\n"
   ]
  },
  {
   "cell_type": "code",
   "execution_count": 77,
   "id": "96c6e391",
   "metadata": {},
   "outputs": [
    {
     "data": {
      "text/html": [
       "<div>\n",
       "<style scoped>\n",
       "    .dataframe tbody tr th:only-of-type {\n",
       "        vertical-align: middle;\n",
       "    }\n",
       "\n",
       "    .dataframe tbody tr th {\n",
       "        vertical-align: top;\n",
       "    }\n",
       "\n",
       "    .dataframe thead th {\n",
       "        text-align: right;\n",
       "    }\n",
       "</style>\n",
       "<table border=\"1\" class=\"dataframe\">\n",
       "  <thead>\n",
       "    <tr style=\"text-align: right;\">\n",
       "      <th></th>\n",
       "      <th>업태구분명</th>\n",
       "      <th>행정구역(구별)</th>\n",
       "      <th>점포수</th>\n",
       "      <th>총매출액</th>\n",
       "      <th>평균매출액</th>\n",
       "      <th>기간</th>\n",
       "      <th>광역상권</th>\n",
       "      <th>임대료(천원/㎡)</th>\n",
       "      <th>공실률(%)</th>\n",
       "      <th>투자수익률(%)</th>\n",
       "      <th>소득수익률(%)</th>\n",
       "      <th>자본수익률(%)</th>\n",
       "      <th>시군구코드</th>\n",
       "      <th>ID</th>\n",
       "    </tr>\n",
       "  </thead>\n",
       "  <tbody>\n",
       "    <tr>\n",
       "      <th>0</th>\n",
       "      <td>카페</td>\n",
       "      <td>강남구</td>\n",
       "      <td>19831</td>\n",
       "      <td>1124968458425</td>\n",
       "      <td>5.672777e+07</td>\n",
       "      <td>2018.0</td>\n",
       "      <td>NaN</td>\n",
       "      <td>66.676190</td>\n",
       "      <td>8.719048</td>\n",
       "      <td>7.961429</td>\n",
       "      <td>3.287143</td>\n",
       "      <td>4.564286</td>\n",
       "      <td>11680.0</td>\n",
       "      <td>48.238095</td>\n",
       "    </tr>\n",
       "    <tr>\n",
       "      <th>1</th>\n",
       "      <td>카페</td>\n",
       "      <td>강동구</td>\n",
       "      <td>4409</td>\n",
       "      <td>130807497441</td>\n",
       "      <td>2.966829e+07</td>\n",
       "      <td>2018.0</td>\n",
       "      <td>NaN</td>\n",
       "      <td>35.833333</td>\n",
       "      <td>7.300000</td>\n",
       "      <td>6.893333</td>\n",
       "      <td>2.570000</td>\n",
       "      <td>4.243333</td>\n",
       "      <td>11740.0</td>\n",
       "      <td>72.666667</td>\n",
       "    </tr>\n",
       "    <tr>\n",
       "      <th>2</th>\n",
       "      <td>카페</td>\n",
       "      <td>강북구</td>\n",
       "      <td>1897</td>\n",
       "      <td>61679055345</td>\n",
       "      <td>3.251400e+07</td>\n",
       "      <td>2018.0</td>\n",
       "      <td>NaN</td>\n",
       "      <td>56.800000</td>\n",
       "      <td>5.066667</td>\n",
       "      <td>6.386667</td>\n",
       "      <td>4.396667</td>\n",
       "      <td>1.926667</td>\n",
       "      <td>11305.0</td>\n",
       "      <td>64.666667</td>\n",
       "    </tr>\n",
       "    <tr>\n",
       "      <th>3</th>\n",
       "      <td>카페</td>\n",
       "      <td>강서구</td>\n",
       "      <td>2892</td>\n",
       "      <td>75602134515</td>\n",
       "      <td>2.614182e+07</td>\n",
       "      <td>2018.0</td>\n",
       "      <td>NaN</td>\n",
       "      <td>28.633333</td>\n",
       "      <td>10.733333</td>\n",
       "      <td>7.750000</td>\n",
       "      <td>3.186667</td>\n",
       "      <td>4.450000</td>\n",
       "      <td>11500.0</td>\n",
       "      <td>75.666667</td>\n",
       "    </tr>\n",
       "    <tr>\n",
       "      <th>4</th>\n",
       "      <td>카페</td>\n",
       "      <td>관악구</td>\n",
       "      <td>4862</td>\n",
       "      <td>204263103705</td>\n",
       "      <td>4.201216e+07</td>\n",
       "      <td>2018.0</td>\n",
       "      <td>NaN</td>\n",
       "      <td>68.400000</td>\n",
       "      <td>3.550000</td>\n",
       "      <td>7.438333</td>\n",
       "      <td>4.323333</td>\n",
       "      <td>3.018333</td>\n",
       "      <td>11620.0</td>\n",
       "      <td>64.166667</td>\n",
       "    </tr>\n",
       "  </tbody>\n",
       "</table>\n",
       "</div>"
      ],
      "text/plain": [
       "  업태구분명 행정구역(구별)    점포수           총매출액         평균매출액      기간 광역상권  임대료(천원/㎡)  \\\n",
       "0    카페      강남구  19831  1124968458425  5.672777e+07  2018.0  NaN  66.676190   \n",
       "1    카페      강동구   4409   130807497441  2.966829e+07  2018.0  NaN  35.833333   \n",
       "2    카페      강북구   1897    61679055345  3.251400e+07  2018.0  NaN  56.800000   \n",
       "3    카페      강서구   2892    75602134515  2.614182e+07  2018.0  NaN  28.633333   \n",
       "4    카페      관악구   4862   204263103705  4.201216e+07  2018.0  NaN  68.400000   \n",
       "\n",
       "      공실률(%)  투자수익률(%)  소득수익률(%)  자본수익률(%)    시군구코드         ID  \n",
       "0   8.719048  7.961429  3.287143  4.564286  11680.0  48.238095  \n",
       "1   7.300000  6.893333  2.570000  4.243333  11740.0  72.666667  \n",
       "2   5.066667  6.386667  4.396667  1.926667  11305.0  64.666667  \n",
       "3  10.733333  7.750000  3.186667  4.450000  11500.0  75.666667  \n",
       "4   3.550000  7.438333  4.323333  3.018333  11620.0  64.166667  "
      ]
     },
     "execution_count": 77,
     "metadata": {},
     "output_type": "execute_result"
    }
   ],
   "source": [
    "sumca=pd.merge(sums_ca,mean,left_on='행정구역(구별)',right_on='행정구역(구별)',how='inner')\n",
    "sumca.head(5)"
   ]
  },
  {
   "cell_type": "code",
   "execution_count": 80,
   "id": "2b23e56f",
   "metadata": {},
   "outputs": [
    {
     "data": {
      "text/plain": [
       "Text(66.67619047619048, 56727772.59971762, '강남구')"
      ]
     },
     "execution_count": 80,
     "metadata": {},
     "output_type": "execute_result"
    },
    {
     "data": {
      "text/plain": [
       "Text(35.833333333333336, 29668291.549330913, '강동구')"
      ]
     },
     "execution_count": 80,
     "metadata": {},
     "output_type": "execute_result"
    },
    {
     "data": {
      "text/plain": [
       "Text(56.800000000000004, 32513998.60042172, '강북구')"
      ]
     },
     "execution_count": 80,
     "metadata": {},
     "output_type": "execute_result"
    },
    {
     "data": {
      "text/plain": [
       "Text(28.633333333333336, 26141816.913900416, '강서구')"
      ]
     },
     "execution_count": 80,
     "metadata": {},
     "output_type": "execute_result"
    },
    {
     "data": {
      "text/plain": [
       "Text(68.39999999999999, 42012156.25359934, '관악구')"
      ]
     },
     "execution_count": 80,
     "metadata": {},
     "output_type": "execute_result"
    },
    {
     "data": {
      "text/plain": [
       "Text(47.43333333333333, 43168046.77340535, '광진구')"
      ]
     },
     "execution_count": 80,
     "metadata": {},
     "output_type": "execute_result"
    },
    {
     "data": {
      "text/plain": [
       "Text(43.4, 41685025.53023388, '구로구')"
      ]
     },
     "execution_count": 80,
     "metadata": {},
     "output_type": "execute_result"
    },
    {
     "data": {
      "text/plain": [
       "Text(37.87777777777777, 38427214.558012635, '동대문구')"
      ]
     },
     "execution_count": 80,
     "metadata": {},
     "output_type": "execute_result"
    },
    {
     "data": {
      "text/plain": [
       "Text(58.43333333333334, 43431538.152957484, '동작구')"
      ]
     },
     "execution_count": 80,
     "metadata": {},
     "output_type": "execute_result"
    },
    {
     "data": {
      "text/plain": [
       "Text(54.96666666666667, 50935346.7164022, '마포구')"
      ]
     },
     "execution_count": 80,
     "metadata": {},
     "output_type": "execute_result"
    },
    {
     "data": {
      "text/plain": [
       "Text(27.633333333333336, 52465107.49898125, '서초구')"
      ]
     },
     "execution_count": 80,
     "metadata": {},
     "output_type": "execute_result"
    },
    {
     "data": {
      "text/plain": [
       "Text(38.833333333333336, 28862346.82068742, '성동구')"
      ]
     },
     "execution_count": 80,
     "metadata": {},
     "output_type": "execute_result"
    },
    {
     "data": {
      "text/plain": [
       "Text(44.300000000000004, 41876365.45567427, '성북구')"
      ]
     },
     "execution_count": 80,
     "metadata": {},
     "output_type": "execute_result"
    },
    {
     "data": {
      "text/plain": [
       "Text(42.96666666666667, 57343561.996235885, '송파구')"
      ]
     },
     "execution_count": 80,
     "metadata": {},
     "output_type": "execute_result"
    },
    {
     "data": {
      "text/plain": [
       "Text(34.1, 18334315.092361458, '양천구')"
      ]
     },
     "execution_count": 80,
     "metadata": {},
     "output_type": "execute_result"
    },
    {
     "data": {
      "text/plain": [
       "Text(38.96666666666667, 51432836.829797894, '영등포구')"
      ]
     },
     "execution_count": 80,
     "metadata": {},
     "output_type": "execute_result"
    },
    {
     "data": {
      "text/plain": [
       "Text(36.516666666666666, 47830971.25398812, '용산구')"
      ]
     },
     "execution_count": 80,
     "metadata": {},
     "output_type": "execute_result"
    },
    {
     "data": {
      "text/plain": [
       "Text(37.56666666666666, 24887618.837024655, '은평구')"
      ]
     },
     "execution_count": 80,
     "metadata": {},
     "output_type": "execute_result"
    },
    {
     "data": {
      "text/plain": [
       "Text(66.12500000000001, 56608230.71310116, '종로구')"
      ]
     },
     "execution_count": 80,
     "metadata": {},
     "output_type": "execute_result"
    },
    {
     "data": {
      "text/plain": [
       "Text(120.58181818181819, 65221070.25844071, '중구')"
      ]
     },
     "execution_count": 80,
     "metadata": {},
     "output_type": "execute_result"
    },
    {
     "data": {
      "text/plain": [
       "Text(0.5, 0, '2017-2019년 평균 임대료(천원/㎡)')"
      ]
     },
     "execution_count": 80,
     "metadata": {},
     "output_type": "execute_result"
    },
    {
     "data": {
      "text/plain": [
       "Text(0, 0.5, '2017-2019년 카페 평균 매출액')"
      ]
     },
     "execution_count": 80,
     "metadata": {},
     "output_type": "execute_result"
    },
    {
     "data": {
      "text/plain": [
       "Text(0.5, 1.0, '2017년-2019년 구별 평균 임대료와 카페 평균 매출액 산점도')"
      ]
     },
     "execution_count": 80,
     "metadata": {},
     "output_type": "execute_result"
    },
    {
     "data": {
      "image/png": "[encoded data removed]",
      "text/plain": [
       "<Figure size 936x936 with 1 Axes>"
      ]
     },
     "metadata": {
      "needs_background": "light"
     },
     "output_type": "display_data"
    }
   ],
   "source": [
    "\n",
    "fig, ax = plt.subplots()\n",
    "my_scatter_plot = ax.scatter(\n",
    "sumca[\"임대료(천원/㎡)\"], \n",
    "sumca[\"평균매출액\"],\n",
    "color='r'\n",
    ",s=80, \n",
    ")\n",
    "plt.gcf().set_size_inches((13, 13)) \n",
    "\n",
    "for i, txt in enumerate(sumca[\"행정구역(구별)\"]):\n",
    "    plt.annotate(txt, (sumca[\"임대료(천원/㎡)\"][i], sumca[\"평균매출액\"] [i]))\n",
    "\n",
    "ax.set_xlabel(\"2017-2019년 평균 임대료(천원/㎡)\")\n",
    "ax.set_ylabel('2017-2019년 카페 평균 매출액')\n",
    "ax.set_title(\"2017년-2019년 구별 평균 임대료와 카페 평균 매출액 산점도\")"
   ]
  },
  {
   "cell_type": "code",
   "execution_count": null,
   "id": "f9b70ff7",
   "metadata": {},
   "outputs": [],
   "source": []
  }
 ],
 "metadata": {
  "kernelspec": {
   "display_name": "Python 3",
   "language": "python",
   "name": "python3"
  },
  "language_info": {
   "codemirror_mode": {
    "name": "ipython",
    "version": 3
   },
   "file_extension": ".py",
   "mimetype": "text/x-python",
   "name": "python",
   "nbconvert_exporter": "python",
   "pygments_lexer": "ipython3",
   "version": "3.8.8"
  }
 },
 "nbformat": 4,
 "nbformat_minor": 5
}
